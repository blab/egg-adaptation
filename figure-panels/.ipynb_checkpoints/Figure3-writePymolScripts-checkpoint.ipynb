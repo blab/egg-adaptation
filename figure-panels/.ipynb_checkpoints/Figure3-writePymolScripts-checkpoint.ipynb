{
 "cells": [
  {
   "cell_type": "code",
   "execution_count": 1,
   "id": "c18f3c18",
   "metadata": {},
   "outputs": [],
   "source": [
    "import glob\n",
    "import json\n",
    "import ast\n",
    "import matplotlib.pyplot as plt\n",
    "import pandas as pd\n",
    "import numpy as np\n",
    "from Bio import SeqIO"
   ]
  },
  {
   "cell_type": "markdown",
   "id": "96a02cd5",
   "metadata": {},
   "source": [
    "## Write pymol script to color egg adaptive mutations on structure"
   ]
  },
  {
   "cell_type": "code",
   "execution_count": 2,
   "id": "2aa4498d",
   "metadata": {},
   "outputs": [],
   "source": [
    "#based on the pdb files, chains that are HA1\n",
    "trimerization_chains = {'h3n2':['A', 'C', 'E'], 'h1n1pdm':['A', 'C', 'E'], \n",
    "                        'vic':['A', 'C', 'E'], 'yam':['A', 'C', 'E']}"
   ]
  },
  {
   "cell_type": "code",
   "execution_count": 21,
   "id": "1c404995",
   "metadata": {},
   "outputs": [],
   "source": [
    "# read in egg-adaptive sites and colors\n",
    "egg_adaptive_sites_by_virus = \"Figure3/egg-adaptive-muts-threshold_3percent.json\"\n",
    "\n",
    "with open(egg_adaptive_sites_by_virus) as json_handle:\n",
    "    sites_and_colors = json.load(json_handle)"
   ]
  },
  {
   "cell_type": "code",
   "execution_count": 22,
   "id": "e12ccb04",
   "metadata": {},
   "outputs": [],
   "source": [
    "def write_pml_file(virus, gene, pml_filename, pdb_accession, monomer, with_receptor):\n",
    "    \"\"\"\n",
    "    Write .pml file to color residues with egg adaptation mutations\n",
    "    Color just one monomers, and gray out other monomers of trimer and make sites of egg muts darker gray\n",
    "    \"\"\"\n",
    "        \n",
    "    # get pdb structure, show surface and make background white\n",
    "    fetch_pdb = f\"fetch {pdb_accession}\"\n",
    "    # some pdbs (like 4o5n) are just a monomer and need to trimerize them\n",
    "    # others (like 3m6s) are already trimers\n",
    "    if monomer==True:\n",
    "        text_lines = [\"set assembly, 1\",fetch_pdb, f\"split_states {pdb_accession}, prefix=mono\", \"bg_color white\", \n",
    "                    \"show surface\", \"set surface_type, 0\", \"set transparency, 0.8\", \n",
    "                     \"hide sticks\", \"remove solvent\", \"remove resname SO4\", \"set seq_view, 1\", \"hide cartoon\"]\n",
    "\n",
    "        text_lines+=[\"select mono0001\", \"color 0xF0F0F0, sele\"] \n",
    "        text_lines+=[\"set transparency, 0.6\", \"select mono0002\", \"color 0x808080, sele\", \"select mono0003\", \"color 0x808080, sele\"]\n",
    "        if with_receptor == True:\n",
    "            if pdb_accession == '2YP4':\n",
    "                text_lines+=[\"select mono0001 and chain C\", \"show sticks, sele\", \"color black, sele\"]\n",
    "    \n",
    "    else:\n",
    "        text_lines = [\"set assembly, 1\",fetch_pdb, \"bg_color white\",\n",
    "                    \"show surface\", \"set surface_type, 0\", \"set transparency, 0.8\", \n",
    "                      \"hide sticks\", \"remove solvent\", \"remove resname SO4\", \"set seq_view, 1\", \"hide cartoon\"]\n",
    "        text_lines+=[\"select chain A+B\", \"color 0xF0F0F0, sele\"]\n",
    "        text_lines+=[\"set transparency, 0.6\", \"select chain C+D+E+F\", \"color 0x808080, sele\"] \n",
    "        if with_receptor == True:\n",
    "            if pdb_accession == '3ube':\n",
    "                text_lines+=[\"select chain M\", \"show sticks, sele\", \"color black, sele\"]\n",
    "            if pdb_accession == '4M44':\n",
    "                text_lines+=[\"select chain J\", \"show sticks, sele\", \"color black, sele\"]\n",
    "    \n",
    "\n",
    "    # get egg mutation sites and colors\n",
    "    sites_this_gene = sites_and_colors[virus][gene]\n",
    "\n",
    "    \n",
    "    # adjust residue numbers according to PDB structure numbering\n",
    "    res_to_color = {}\n",
    "    for residue, color in sites_this_gene.items():\n",
    "        \n",
    "        # the structure for Yam (4M40) has an insertion of one residue at 165 compared to the coordinates used in my tree\n",
    "        if virus=='yam':\n",
    "            if int(residue) >= 165:\n",
    "                residue = str(int(residue)-1)\n",
    "        # same situation with Vic (4FQM)\n",
    "        if virus=='vic':\n",
    "            if int(residue) >= 165:\n",
    "                residue = str(int(residue)-2)\n",
    "        #h1n1 3ube has different numbreing\n",
    "        if pdb_accession == '3ube':\n",
    "            if int(residue) in [222, 223]:\n",
    "                residue = str(int(residue)+3)\n",
    "            elif int(residue) in [187, 191]:\n",
    "                residue = str(int(residue)+3)\n",
    "            elif int(residue) in [127]:\n",
    "                residue = str(int(residue)+4)\n",
    "        \n",
    "        # switch hex color format from #AAAAAA to 0xAAAAAA\n",
    "        color_code = f'0x{color[1:]}'\n",
    "        res_to_color[residue] = color_code\n",
    "\n",
    "\n",
    "    \n",
    "    for resi, res_color in res_to_color.items():\n",
    "\n",
    "        # just color one monomer\n",
    "        if monomer == True:\n",
    "            text_lines.append(f\"select mono0001 and chain A and resi {resi}\")\n",
    "            text_lines.append(\"set transparency, 0, sele\")\n",
    "            text_lines.append(f\"color 0x{res_color}, sele\")\n",
    "\n",
    "            # for the other two monomers, color them but transparently\n",
    "            for other_monomer in ['mono0002', 'mono0003']:\n",
    "                text_lines.append(f\"select {other_monomer} and chain A and resi {resi}\")\n",
    "                text_lines.append(f\"color 0x808080, sele\")\n",
    "                text_lines.append(\"set transparency, 0, sele\")\n",
    "            text_lines.append(f\"dele {pdb_accession}\")\n",
    "        else:\n",
    "            text_lines.append(f\"select chain A and resi {resi}\")\n",
    "            text_lines.append(\"set transparency, 0, sele\")\n",
    "            text_lines.append(f\"color 0x{res_color}, sele\")\n",
    "            \n",
    "            for other_monomer in ['C', 'E']:\n",
    "                text_lines.append(f\"select chain {other_monomer} and resi {resi}\")\n",
    "                text_lines.append(f\"color 0x808080, sele\")\n",
    "                text_lines.append(\"set transparency, 0, sele\")\n",
    "                \n",
    "                                    \n",
    "    pml_filename = 'Figure3/pymol_commands/'+pml_filename\n",
    "    with open(pml_filename, 'w') as f:\n",
    "        for line in text_lines:\n",
    "            f.write(line)\n",
    "            f.write('\\n')\n",
    "        \n",
    "    "
   ]
  },
  {
   "cell_type": "code",
   "execution_count": 23,
   "id": "0a1cd654",
   "metadata": {},
   "outputs": [],
   "source": [
    "# h3n2 HA\n",
    "write_pml_file('h3n2', 'HA1', 'h3n2_eggadaptive_structure.pml', '4o5n', True, False)"
   ]
  },
  {
   "cell_type": "code",
   "execution_count": null,
   "id": "01bead0a",
   "metadata": {},
   "outputs": [],
   "source": [
    "run /Users/katekistler/nextstrain/egg-adaptation-manuscript/figure-panels/Figure3/pymol_commands/h3n2_eggadaptive_structure.pml"
   ]
  },
  {
   "cell_type": "code",
   "execution_count": 24,
   "id": "d2951114",
   "metadata": {},
   "outputs": [],
   "source": [
    "#this one has human-like receptor\n",
    "write_pml_file('h3n2', 'HA1', 'h3n2_eggadaptive_structure_receptor.pml', '2YP4', True, True)"
   ]
  },
  {
   "cell_type": "code",
   "execution_count": null,
   "id": "eb4c9677",
   "metadata": {},
   "outputs": [],
   "source": [
    "run /Users/katekistler/nextstrain/egg-adaptation-manuscript/figure-panels/Figure3/pymol_commands/h3n2_eggadaptive_structure_receptor.pml"
   ]
  },
  {
   "cell_type": "code",
   "execution_count": 17,
   "id": "0a022991",
   "metadata": {},
   "outputs": [],
   "source": [
    "# h1n1pdm HA\n",
    "write_pml_file('h1n1pdm', 'HA1', 'h1n1pdm_eggadaptive_structure.pml', '3m6s', False, False)"
   ]
  },
  {
   "cell_type": "code",
   "execution_count": null,
   "id": "a52b3dbf",
   "metadata": {},
   "outputs": [],
   "source": [
    "run /Users/katekistler/nextstrain/egg-adaptation-manuscript/figure-panels/Figure3/pymol_commands/h1n1pdm_eggadaptive_structure.pml"
   ]
  },
  {
   "cell_type": "code",
   "execution_count": 18,
   "id": "c50c8aeb",
   "metadata": {},
   "outputs": [],
   "source": [
    "#this one has human-like receptor\n",
    "write_pml_file('h1n1pdm', 'HA1', 'h1n1pdm_eggadaptive_structure_receptor.pml', '3ube', False, True)"
   ]
  },
  {
   "cell_type": "code",
   "execution_count": null,
   "id": "5cb0e0e2",
   "metadata": {},
   "outputs": [],
   "source": [
    "run /Users/katekistler/nextstrain/egg-adaptation-manuscript/figure-panels/Figure3/pymol_commands/h1n1pdm_eggadaptive_structure_receptor.pml"
   ]
  },
  {
   "cell_type": "code",
   "execution_count": 19,
   "id": "11b84119",
   "metadata": {},
   "outputs": [],
   "source": [
    "# Vic HA\n",
    "write_pml_file('vic', 'HA1', 'vic_eggadaptive_structure.pml', '4FQM', False, False)"
   ]
  },
  {
   "cell_type": "code",
   "execution_count": null,
   "id": "d82cd6ea",
   "metadata": {},
   "outputs": [],
   "source": [
    "run /Users/katekistler/nextstrain/egg-adaptation-manuscript/figure-panels/Figure3/pymol_commands/vic_eggadaptive_structure.pml"
   ]
  },
  {
   "cell_type": "code",
   "execution_count": 20,
   "id": "7721b013",
   "metadata": {},
   "outputs": [],
   "source": [
    "# Yam HA\n",
    "write_pml_file('yam', 'HA1', 'yam_eggadaptive_structure.pml', '4M40', False, False)"
   ]
  },
  {
   "cell_type": "code",
   "execution_count": null,
   "id": "94441107",
   "metadata": {},
   "outputs": [],
   "source": [
    "run /Users/katekistler/nextstrain/egg-adaptation-manuscript/figure-panels/Figure3/pymol_commands/yam_eggadaptive_structure.pml"
   ]
  },
  {
   "cell_type": "code",
   "execution_count": null,
   "id": "bdd99d1b",
   "metadata": {},
   "outputs": [],
   "source": []
  }
 ],
 "metadata": {
  "kernelspec": {
   "display_name": "Python 3 (ipykernel)",
   "language": "python",
   "name": "python3"
  },
  "language_info": {
   "codemirror_mode": {
    "name": "ipython",
    "version": 3
   },
   "file_extension": ".py",
   "mimetype": "text/x-python",
   "name": "python",
   "nbconvert_exporter": "python",
   "pygments_lexer": "ipython3",
   "version": "3.9.7"
  }
 },
 "nbformat": 4,
 "nbformat_minor": 5
}
