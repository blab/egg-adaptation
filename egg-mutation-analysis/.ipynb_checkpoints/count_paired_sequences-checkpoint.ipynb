{
 "cells": [
  {
   "cell_type": "code",
   "execution_count": 2,
   "id": "ef0dcdb6",
   "metadata": {},
   "outputs": [],
   "source": [
    "import json\n",
    "from augur.utils import json_to_tree\n",
    "import pandas as pd\n",
    "import seaborn as sns\n",
    "import matplotlib.pyplot as plt\n",
    "import matplotlib.patches as mpatches"
   ]
  },
  {
   "cell_type": "code",
   "execution_count": 1,
   "id": "a852af82",
   "metadata": {},
   "outputs": [],
   "source": [
    "def count_paired_sequences(virus, segment= 'ha'):\n",
    "    \"\"\"\n",
    "    Find how many egg-passaged sequences have a paired non-egg-passaged sequence\n",
    "    \"\"\"\n",
    "    \n",
    "    tree_file = f'../nextstrain_builds/egg-enriched/auspice/{virus}_{segment.lower()}_egg.json'\n",
    "\n",
    "    with open(tree_file) as json_handle:\n",
    "        tree_json = json.load(json_handle)\n",
    "\n",
    "    tree = json_to_tree(tree_json)\n",
    "    \n",
    "    num_egg_seqs = 0\n",
    "    egg_seq_names = []\n",
    "    \n",
    "    for node in tree.find_clades(terminal=True):\n",
    "        if node.node_attrs['passage_category']['value']=='egg':\n",
    "            num_egg_seqs+=1\n",
    "            egg_seq_names.append(node.name)\n",
    "            \n",
    "    potential_pair_names = [x.strip('-egg') for x in egg_seq_names]\n",
    "    num_egg_seqs_w_pair = 0\n",
    "    \n",
    "    for node in tree.find_clades(terminal=True):\n",
    "        if node.node_attrs['passage_category']['value']!='egg':\n",
    "            if node.name in potential_pair_names:\n",
    "                num_egg_seqs_w_pair+=1\n",
    "    \n",
    "    return num_egg_seqs, num_egg_seqs_w_pair\n",
    "            "
   ]
  },
  {
   "cell_type": "code",
   "execution_count": 3,
   "id": "ee77fb06",
   "metadata": {},
   "outputs": [],
   "source": [
    "w_pair_cmap = {'h3n2': '#fbba0a', 'h1n1pdm': '#FF4500', 'vic': '#088F8F', 'yam':'#45b6fe'}\n",
    "wo_pair_cmap = {'h3n2': '#fde39d', 'h1n1pdm': '#ffa27f', 'vic': '#83c7c7', 'yam':'#a2dafe'}"
   ]
  },
  {
   "cell_type": "code",
   "execution_count": 4,
   "id": "2053e04f",
   "metadata": {},
   "outputs": [],
   "source": [
    "def plot_num_egg_seqs_w_pair(viruses, filename=None):\n",
    "    \"\"\"\n",
    "    plot the total number of egg sequences and show the number that have a non-egg-passaged pair\n",
    "    \"\"\"\n",
    "    \n",
    "    egg_seqs_w_pair = []\n",
    "    egg_seqs_wo_pair = []\n",
    "    \n",
    "    to_plot = []\n",
    "    \n",
    "    for v in viruses:\n",
    "        num_egg_seqs, num_egg_seqs_w_pair = count_paired_sequences(v)\n",
    "        egg_seqs_w_pair.append(num_egg_seqs_w_pair)\n",
    "        egg_seqs_wo_pair.append(num_egg_seqs-num_egg_seqs_w_pair)\n",
    "        to_plot.append({'virus': v, 'total': num_egg_seqs, \n",
    "                        'w_pair': num_egg_seqs_w_pair, 'wo_pair': num_egg_seqs-num_egg_seqs_w_pair})\n",
    "#         to_plot.append({'virus': v, 'count': num_egg_seqs-num_egg_seqs_w_pair, 'category': 'w0_pair'})\n",
    "    \n",
    "    capitalized_names = {'h3n2': 'H3N2', 'h1n1pdm': 'H1N1pdm', 'vic': 'Vic', 'yam': 'Yam'}\n",
    "    \n",
    "    df = pd.DataFrame(to_plot)\n",
    "    \n",
    "    fig, ax = plt.subplots(figsize=(5,2))\n",
    "    \n",
    "    for i, row in df.iterrows():\n",
    "        color_wpair = w_pair_cmap[row['virus']]\n",
    "        color_wopair = wo_pair_cmap[row['virus']]\n",
    "        pct_w_pair = round((row['w_pair']/row['total'])*100)\n",
    "        pct_label = f'{pct_w_pair} %'\n",
    "        rects1 = ax.bar(capitalized_names[row['virus']], row['w_pair'],  color=color_wpair)\n",
    "        rects2 = ax.bar(capitalized_names[row['virus']], row['wo_pair'], \n",
    "                        bottom=row['w_pair'], color=color_wopair, label=pct_label)\n",
    "        ax.bar_label(rects2, [str(pct_label)], padding=3)\n",
    "\n",
    "    \n",
    "    ax.set_ylabel('Number of\\negg-passaged\\nstrains', fontsize=14)\n",
    "    ax.tick_params(axis='both', labelsize=14)\n",
    "    ax.set_yticks([0,800,1600])\n",
    "    \n",
    "    dark_patch = mpatches.Patch(color='#737373', label='Pair')\n",
    "    light_patch = mpatches.Patch(color='#d3d3d3', label='No pair')\n",
    "    ax.legend(handles=[dark_patch, light_patch], bbox_to_anchor=(0.95, 1.0), bbox_transform=fig.transFigure)\n",
    "    \n",
    "    sns.despine()\n",
    "    \n",
    "    if filename:\n",
    "        fig.savefig(filename, dpi=300, bbox_inches='tight', transparent=False, facecolor='white')"
   ]
  },
  {
   "cell_type": "code",
   "execution_count": 5,
   "id": "a855a813",
   "metadata": {},
   "outputs": [
    {
     "data": {
      "image/png": "[encoded data removed]",
      "text/plain": [
       "<Figure size 360x144 with 1 Axes>"
      ]
     },
     "metadata": {
      "needs_background": "light"
     },
     "output_type": "display_data"
    }
   ],
   "source": [
    "plot_num_egg_seqs_w_pair(['h3n2', 'h1n1pdm', 'vic', 'yam'])"
   ]
  },
  {
   "cell_type": "code",
   "execution_count": 6,
   "id": "81f814e3",
   "metadata": {},
   "outputs": [],
   "source": [
    "def plot_num_egg_seqs_w_pair_horizontal(viruses, filename=None):\n",
    "    \"\"\"\n",
    "    plot the total number of egg sequences and show the number that have a non-egg-passaged pair\n",
    "    \"\"\"\n",
    "    \n",
    "    egg_seqs_w_pair = []\n",
    "    egg_seqs_wo_pair = []\n",
    "    \n",
    "    to_plot = []\n",
    "    \n",
    "    for v in viruses:\n",
    "        num_egg_seqs, num_egg_seqs_w_pair = count_paired_sequences(v)\n",
    "        egg_seqs_w_pair.append(num_egg_seqs_w_pair)\n",
    "        egg_seqs_wo_pair.append(num_egg_seqs-num_egg_seqs_w_pair)\n",
    "        to_plot.append({'virus': v, 'w_pair': num_egg_seqs_w_pair, 'wo_pair': num_egg_seqs-num_egg_seqs_w_pair})\n",
    "#         to_plot.append({'virus': v, 'count': num_egg_seqs-num_egg_seqs_w_pair, 'category': 'w0_pair'})\n",
    "    \n",
    "    capitalized_names = {'h3n2': 'H3N2', 'h1n1pdm': 'H1N1pdm', 'vic': 'Vic', 'yam': 'Yam'}\n",
    "    \n",
    "    df = pd.DataFrame(to_plot)\n",
    "    \n",
    "    fig, ax = plt.subplots(figsize=(2,5))\n",
    "    \n",
    "    for i, row in df.iterrows():\n",
    "        color_wpair = w_pair_cmap[row['virus']]\n",
    "        color_wopair = wo_pair_cmap[row['virus']]\n",
    "        ax.barh(capitalized_names[row['virus']], row['w_pair'],  color=color_wpair)\n",
    "        ax.barh(capitalized_names[row['virus']], row['wo_pair'], left=row['w_pair'], color=color_wopair)\n",
    "\n",
    "    \n",
    "    ax.set_xlabel('Number of\\negg-passaged strains', fontsize=14)\n",
    "    ax.tick_params(axis='both', labelsize=14)\n",
    "    ax.set_xticks([0,800,1600])\n",
    "    \n",
    "    dark_patch = mpatches.Patch(color='#737373', label='Pair')\n",
    "    light_patch = mpatches.Patch(color='#d3d3d3', label='No pair')\n",
    "    ax.legend(handles=[dark_patch, light_patch], bbox_to_anchor=(1.1, 0.3), bbox_transform=fig.transFigure)\n",
    "    \n",
    "    sns.despine()\n",
    "    \n",
    "    if filename:\n",
    "        fig.savefig(filename, dpi=300, bbox_inches='tight', transparent=False, facecolor='white')"
   ]
  },
  {
   "cell_type": "code",
   "execution_count": null,
   "id": "af90f1d6",
   "metadata": {},
   "outputs": [],
   "source": []
  }
 ],
 "metadata": {
  "kernelspec": {
   "display_name": "Python 3 (ipykernel)",
   "language": "python",
   "name": "python3"
  },
  "language_info": {
   "codemirror_mode": {
    "name": "ipython",
    "version": 3
   },
   "file_extension": ".py",
   "mimetype": "text/x-python",
   "name": "python",
   "nbconvert_exporter": "python",
   "pygments_lexer": "ipython3",
   "version": "3.9.7"
  }
 },
 "nbformat": 4,
 "nbformat_minor": 5
}
