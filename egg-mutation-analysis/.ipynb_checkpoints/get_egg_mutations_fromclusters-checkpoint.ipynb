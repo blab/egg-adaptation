{
 "cells": [
  {
   "cell_type": "code",
   "execution_count": 1,
   "id": "aff66eb1",
   "metadata": {},
   "outputs": [],
   "source": [
    "import json\n",
    "from collections import Counter\n",
    "from augur.utils import json_to_tree\n",
    "import seaborn as sns\n",
    "import matplotlib.pyplot as plt\n",
    "import pandas as pd\n",
    "import numpy as np"
   ]
  },
  {
   "cell_type": "markdown",
   "id": "7e4ae6b7",
   "metadata": {},
   "source": [
    "### Find mutations that happened during egg-passaging\n",
    "Use the phylogeny to determine egg-passaging mutations by those that happen on terminal branches leading to an egg-passaged strain and those on internal branches where all descending tips are egg-passaged"
   ]
  },
  {
   "cell_type": "code",
   "execution_count": 20,
   "id": "9841c50f",
   "metadata": {},
   "outputs": [],
   "source": [
    "def find_egg_mutations(virus, segment):\n",
    "    \"\"\"\n",
    "    Read in the tree for the virus and segment and \n",
    "    find all mutations that happened during egg-passaging\n",
    "    \"\"\"\n",
    "    if segment=='HA':\n",
    "        num_tips = '10000tips'\n",
    "    else:\n",
    "        num_tips = '4000tips'\n",
    "        \n",
    "    tree_file = f'../nextstrain_builds/egg-enriched/{num_tips}/auspice/{virus}_30y_egg_{segment.lower()}.json'\n",
    "\n",
    "    with open(tree_file) as json_handle:\n",
    "        tree_json = json.load(json_handle)\n",
    "\n",
    "    tree = json_to_tree(tree_json)\n",
    "    \n",
    "    genome_annotations = list(tree_json['meta']['genome_annotations'].keys())\n",
    "    \n",
    "\n",
    "    # initialize dictionary to keep track of egg mutations \n",
    "    # key is strain name, value is all mutations that happened during egg-passaging\n",
    "    egg_mutations = {}\n",
    "    for node in tree.find_clades(terminal=True):\n",
    "        passage_type = node.node_attrs['passage_category']['value']\n",
    "        # find egg-passaged tips\n",
    "        if passage_type == 'egg':\n",
    "            egg_muts_on_path = {x: [] for x in genome_annotations}\n",
    "            # trace back tip to root\n",
    "            path = tree.get_path(node)\n",
    "            # find the latest node where all descendents are egg-passaged\n",
    "            for x in path:\n",
    "                descending_tips = x.get_terminals()\n",
    "                # find the passage type of all the descending tips\n",
    "                passage_type_descendants = set([x.node_attrs['passage_category']['value'] for x in descending_tips])\n",
    "                if passage_type_descendants == {'egg'}:\n",
    "                    for k,v in x.branch_attrs['mutations'].items():\n",
    "                        egg_muts_on_path[k] += v\n",
    "\n",
    "            egg_mutations[node.name] = egg_muts_on_path\n",
    "\n",
    "            \n",
    "    # save mutation info to json           \n",
    "    # Serializing json\n",
    "    json_object_to_save = json.dumps(egg_mutations, indent=2)\n",
    "\n",
    "    # Write all egg muts for each strain\n",
    "    with open(f\"egg-muts-by-strain/{virus}_{segment}_egg-muts.json\", \"w\") as outfile:\n",
    "        outfile.write(json_object_to_save)\n",
    "    \n",
    "            \n",
    "    return egg_mutations\n"
   ]
  },
  {
   "cell_type": "code",
   "execution_count": 16,
   "id": "df526878",
   "metadata": {},
   "outputs": [
    {
     "name": "stdout",
     "output_type": "stream",
     "text": [
      "50\n",
      "100\n",
      "150\n",
      "200\n",
      "250\n",
      "300\n",
      "350\n",
      "400\n",
      "450\n",
      "500\n",
      "550\n",
      "600\n",
      "650\n",
      "700\n",
      "750\n",
      "800\n",
      "850\n",
      "900\n",
      "950\n",
      "1000\n"
     ]
    }
   ],
   "source": [
    "h3n2_ha_egg_muts = find_egg_mutations('h3n2', 'HA')"
   ]
  },
  {
   "cell_type": "code",
   "execution_count": 5,
   "id": "b9f72435",
   "metadata": {},
   "outputs": [],
   "source": [
    "h3n2_na_egg_muts = find_egg_mutations('h3n2', 'NA')"
   ]
  },
  {
   "cell_type": "code",
   "execution_count": 6,
   "id": "f623cc16",
   "metadata": {},
   "outputs": [],
   "source": [
    "h3n2_pb1_egg_muts = find_egg_mutations('h3n2', 'PB1')"
   ]
  },
  {
   "cell_type": "code",
   "execution_count": 7,
   "id": "cd2fd3c6",
   "metadata": {},
   "outputs": [],
   "source": [
    "h3n2_pb2_egg_muts = find_egg_mutations('h3n2', 'PB2')"
   ]
  },
  {
   "cell_type": "code",
   "execution_count": 8,
   "id": "c74ecfb7",
   "metadata": {},
   "outputs": [],
   "source": [
    "h3n2_np_egg_muts = find_egg_mutations('h3n2', 'NP')"
   ]
  },
  {
   "cell_type": "code",
   "execution_count": 9,
   "id": "37d5f0f4",
   "metadata": {},
   "outputs": [],
   "source": [
    "h3n2_pa_egg_muts = find_egg_mutations('h3n2', 'PA')"
   ]
  },
  {
   "cell_type": "code",
   "execution_count": 11,
   "id": "b3a4ed2a",
   "metadata": {},
   "outputs": [],
   "source": [
    "h3n2_ns_egg_muts = find_egg_mutations('h3n2', 'NS')"
   ]
  },
  {
   "cell_type": "code",
   "execution_count": 10,
   "id": "da9c7bc2",
   "metadata": {},
   "outputs": [],
   "source": [
    "h3n2_mp_egg_muts = find_egg_mutations('h3n2', 'MP')"
   ]
  },
  {
   "cell_type": "code",
   "execution_count": 17,
   "id": "236877a2",
   "metadata": {},
   "outputs": [
    {
     "name": "stdout",
     "output_type": "stream",
     "text": [
      "50\n",
      "100\n",
      "150\n",
      "200\n",
      "250\n",
      "300\n",
      "350\n",
      "400\n",
      "450\n",
      "500\n",
      "550\n",
      "600\n",
      "650\n",
      "700\n",
      "750\n",
      "800\n",
      "850\n",
      "900\n",
      "950\n",
      "1000\n",
      "1050\n",
      "1100\n",
      "1150\n",
      "1200\n",
      "1250\n",
      "1300\n",
      "1350\n",
      "1400\n",
      "1450\n",
      "1500\n",
      "1550\n",
      "1600\n",
      "1650\n",
      "1700\n",
      "1750\n",
      "1800\n",
      "1850\n"
     ]
    }
   ],
   "source": [
    "h1n1pdm_ha_egg_muts = find_egg_mutations('h1n1pdm', 'HA')"
   ]
  },
  {
   "cell_type": "code",
   "execution_count": 12,
   "id": "81df09c7",
   "metadata": {},
   "outputs": [],
   "source": [
    "h1n1pdm_na_egg_muts = find_egg_mutations('h1n1pdm', 'NA')"
   ]
  },
  {
   "cell_type": "code",
   "execution_count": 13,
   "id": "06eb541b",
   "metadata": {},
   "outputs": [],
   "source": [
    "h1n1pdm_pb1_egg_muts = find_egg_mutations('h1n1pdm', 'PB1')"
   ]
  },
  {
   "cell_type": "code",
   "execution_count": 14,
   "id": "3e3d05d4",
   "metadata": {},
   "outputs": [],
   "source": [
    "h1n1pdm_pb2_egg_muts = find_egg_mutations('h1n1pdm', 'PB2')"
   ]
  },
  {
   "cell_type": "code",
   "execution_count": 15,
   "id": "f95a45c6",
   "metadata": {},
   "outputs": [],
   "source": [
    "h1n1pdm_pa_egg_muts = find_egg_mutations('h1n1pdm', 'PA')"
   ]
  },
  {
   "cell_type": "code",
   "execution_count": 16,
   "id": "37a9e06b",
   "metadata": {},
   "outputs": [],
   "source": [
    "h1n1pdm_np_egg_muts = find_egg_mutations('h1n1pdm', 'NP')"
   ]
  },
  {
   "cell_type": "code",
   "execution_count": 17,
   "id": "70cac81f",
   "metadata": {},
   "outputs": [],
   "source": [
    "h1n1pdm_ns_egg_muts = find_egg_mutations('h1n1pdm','NS')"
   ]
  },
  {
   "cell_type": "code",
   "execution_count": 18,
   "id": "de4e5761",
   "metadata": {},
   "outputs": [],
   "source": [
    "h1n1pdm_mp_egg_muts = find_egg_mutations('h1n1pdm', 'MP')"
   ]
  },
  {
   "cell_type": "code",
   "execution_count": 18,
   "id": "2569a473",
   "metadata": {},
   "outputs": [
    {
     "name": "stdout",
     "output_type": "stream",
     "text": [
      "50\n",
      "100\n",
      "150\n",
      "200\n",
      "250\n",
      "300\n",
      "350\n",
      "400\n",
      "450\n",
      "500\n",
      "550\n",
      "600\n",
      "650\n",
      "700\n",
      "750\n",
      "800\n",
      "850\n",
      "900\n",
      "950\n",
      "1000\n",
      "1050\n",
      "1100\n",
      "1150\n",
      "1200\n",
      "1250\n"
     ]
    }
   ],
   "source": [
    "vic_ha_egg_muts = find_egg_mutations('vic', 'HA')"
   ]
  },
  {
   "cell_type": "code",
   "execution_count": 19,
   "id": "c02c56f7",
   "metadata": {},
   "outputs": [],
   "source": [
    "vic_na_egg_muts = find_egg_mutations('vic', 'NA')"
   ]
  },
  {
   "cell_type": "code",
   "execution_count": 20,
   "id": "8da2d757",
   "metadata": {},
   "outputs": [],
   "source": [
    "vic_pb1_egg_muts = find_egg_mutations('vic', 'PB1')"
   ]
  },
  {
   "cell_type": "code",
   "execution_count": 21,
   "id": "b1e9ef1e",
   "metadata": {},
   "outputs": [],
   "source": [
    "vic_pb2_egg_muts = find_egg_mutations('vic', 'PB2')"
   ]
  },
  {
   "cell_type": "code",
   "execution_count": 22,
   "id": "66f9191c",
   "metadata": {},
   "outputs": [],
   "source": [
    "vic_pa_egg_muts = find_egg_mutations('vic', 'PA')"
   ]
  },
  {
   "cell_type": "code",
   "execution_count": 23,
   "id": "c5cf5274",
   "metadata": {},
   "outputs": [],
   "source": [
    "vic_np_egg_muts = find_egg_mutations('vic', 'NP')"
   ]
  },
  {
   "cell_type": "code",
   "execution_count": 24,
   "id": "3d760bd3",
   "metadata": {},
   "outputs": [],
   "source": [
    "vic_ns_egg_muts = find_egg_mutations('vic', 'NS')"
   ]
  },
  {
   "cell_type": "code",
   "execution_count": 25,
   "id": "4f90ef8d",
   "metadata": {},
   "outputs": [],
   "source": [
    "vic_mp_egg_muts = find_egg_mutations('vic', 'MP')"
   ]
  },
  {
   "cell_type": "code",
   "execution_count": 19,
   "id": "f085c9a4",
   "metadata": {},
   "outputs": [
    {
     "name": "stdout",
     "output_type": "stream",
     "text": [
      "50\n",
      "100\n",
      "150\n",
      "200\n",
      "250\n",
      "300\n",
      "350\n",
      "400\n",
      "450\n",
      "500\n",
      "550\n"
     ]
    }
   ],
   "source": [
    "yam_ha_egg_muts = find_egg_mutations('yam', 'HA')"
   ]
  },
  {
   "cell_type": "code",
   "execution_count": 27,
   "id": "0d8e881a",
   "metadata": {},
   "outputs": [],
   "source": [
    "yam_na_egg_muts = find_egg_mutations('yam', 'NA')"
   ]
  },
  {
   "cell_type": "code",
   "execution_count": 28,
   "id": "9c28baaa",
   "metadata": {},
   "outputs": [],
   "source": [
    "yam_pb1_egg_muts = find_egg_mutations('yam','PB1')"
   ]
  },
  {
   "cell_type": "code",
   "execution_count": 29,
   "id": "603c5c35",
   "metadata": {},
   "outputs": [],
   "source": [
    "yam_pb2_egg_muts = find_egg_mutations('yam', 'PB2')"
   ]
  },
  {
   "cell_type": "code",
   "execution_count": 30,
   "id": "828e47f9",
   "metadata": {},
   "outputs": [],
   "source": [
    "yam_pa_egg_muts = find_egg_mutations('yam','PA')"
   ]
  },
  {
   "cell_type": "code",
   "execution_count": 33,
   "id": "7117bee9",
   "metadata": {},
   "outputs": [],
   "source": [
    "yam_np_egg_muts = find_egg_mutations('yam', 'NP')"
   ]
  },
  {
   "cell_type": "code",
   "execution_count": 32,
   "id": "b7d86361",
   "metadata": {},
   "outputs": [],
   "source": [
    "yam_ns_egg_muts = find_egg_mutations('yam','NS')"
   ]
  },
  {
   "cell_type": "code",
   "execution_count": 31,
   "id": "e4cdb531",
   "metadata": {},
   "outputs": [],
   "source": [
    "yam_mp_egg_muts = find_egg_mutations('yam', 'MP')"
   ]
  },
  {
   "cell_type": "markdown",
   "id": "1aec5f26",
   "metadata": {},
   "source": [
    "### Find the number of strains with egg-mutations and get the frequency of each mutation amongst egg-passaged strains"
   ]
  },
  {
   "cell_type": "code",
   "execution_count": 21,
   "id": "6456e02e",
   "metadata": {},
   "outputs": [],
   "source": [
    "def curate_muts(list_of_muts):\n",
    "    \"\"\"\n",
    "    If multiple mutations occur at the same site in the path, \n",
    "    take the final genotype.\n",
    "    Also only care about the final genotype (not what it mutated from), so edit muts accordingly\n",
    "    \"\"\"\n",
    "    \n",
    "    mut_sites = [int(m[1:-1]) for m in list_of_muts]\n",
    "    \n",
    "    #identify positions with multiple mutations\n",
    "    pos_multi_muts = []\n",
    "    for pos, count in Counter(mut_sites).items():\n",
    "        if count>1:\n",
    "            pos_multi_muts.append(pos)\n",
    "            \n",
    "    # now find the initial and final genotypes at this position\n",
    "    # get all mutations where site only mutated once\n",
    "    reconiled_list_of_muts = [m[1:] for m in list_of_muts if int(m[1:-1]) not in pos_multi_muts]\n",
    "    # get all mutations where mutliple occurred at same site\n",
    "    for x in pos_multi_muts:\n",
    "\n",
    "        muts_this_site = [m for m in list_of_muts if str(x) in m]\n",
    "        reconciled_mutation = str(x)+muts_this_site[-1][-1]\n",
    "        reconiled_list_of_muts.append(reconciled_mutation)\n",
    "\n",
    "    return reconiled_list_of_muts"
   ]
  },
  {
   "cell_type": "code",
   "execution_count": 22,
   "id": "4735b90a",
   "metadata": {},
   "outputs": [],
   "source": [
    "def get_egg_mut_freqs(virus, segment, gene):\n",
    "    \"\"\"\n",
    "    Get the frequency of egg mutations amongst egg-passaged strains\n",
    "        \n",
    "    Save file with count and frequency of egg muts for each virus/segment\n",
    "    \n",
    "    Also save the a version of the mutations-by-strain file with the list of \"curated\" mutations\n",
    "    \"\"\"\n",
    "    mut_file = f\"egg-muts-by-strain/{virus}_{segment}_egg-muts.json\"\n",
    "    \n",
    "    with open(mut_file) as json_handle:\n",
    "        egg_muts = json.load(json_handle)\n",
    "        \n",
    "    # deal with multiple muts at same site\n",
    "    egg_mutations = {}\n",
    "    for strain, muts in egg_muts.items():\n",
    "        egg_mutations[strain] = {k:curate_muts(v) for k,v in muts.items()}\n",
    "        \n",
    "    # save file with \"curated\" mutation list\n",
    "    curated_mut_file = f\"egg-muts-by-strain/{virus}_{segment}_curated-egg-muts.json\"\n",
    "    curated_muts_json_to_save = json.dumps(egg_mutations, indent=2)\n",
    "\n",
    "    # Writing to sample.json\n",
    "    with open(curated_mut_file, \"w\") as outfile:\n",
    "        outfile.write(curated_muts_json_to_save)\n",
    "\n",
    "    total_egg_strains = len(egg_mutations)\n",
    "    \n",
    "    # count mutations and calculate their frequency among all egg-passaged strains\n",
    "    all_muts_gene = [v[gene] for k,v in egg_mutations.items()]\n",
    "    # count strains with at least one mut in this gene during egg passaging\n",
    "    strains_w_egg_mut = len([1 for x in all_muts_gene if len(x)!=0])\n",
    "    percent_w_egg_mut = round(strains_w_egg_mut/total_egg_strains, 4)\n",
    "    # flatten list of muts to count the most common ones among all strains\n",
    "    all_muts_gene_flat = [item for items in all_muts_gene for item in items]\n",
    "    mut_counts = Counter(all_muts_gene_flat).most_common()\n",
    "    mut_freqs = {i:j/total_egg_strains for i,j in mut_counts}\n",
    "    \n",
    "    #filter to just muts occurring in 1% (0r 2 or 5) or more of the strains\n",
    "    egg_muts_above_1percent = {k:round(v,4) for k,v in mut_freqs.items() if v>=0.01}\n",
    "    egg_muts_above_2percent = {k:round(v,4) for k,v in mut_freqs.items() if v>=0.02}\n",
    "    egg_muts_above_5percent = {k:round(v,4) for k,v in mut_freqs.items() if v>=0.05}\n",
    "    \n",
    "    #find how many strains have at least one of these mutations\n",
    "    higher_freq_muts_01 = list(egg_muts_above_1percent.keys())\n",
    "    strains_w_higher_freq_egg_muts_01 = len([1 for x in all_muts_gene if set(x).intersection(set(higher_freq_muts_01))])\n",
    "    percent_w_higher_freq_egg_muts_01 = round(strains_w_higher_freq_egg_muts_01/total_egg_strains, 4)\n",
    "    \n",
    "    higher_freq_muts_02 = list(egg_muts_above_2percent.keys())\n",
    "    strains_w_higher_freq_egg_muts_02 = len([1 for x in all_muts_gene if set(x).intersection(set(higher_freq_muts_02))])\n",
    "    percent_w_higher_freq_egg_muts_02 = round(strains_w_higher_freq_egg_muts_02/total_egg_strains, 4)\n",
    "    \n",
    "    higher_freq_muts_05 = list(egg_muts_above_5percent.keys())\n",
    "    strains_w_higher_freq_egg_muts_05 = len([1 for x in all_muts_gene if set(x).intersection(set(higher_freq_muts_05))])\n",
    "    percent_w_higher_freq_egg_muts_05 = round(strains_w_higher_freq_egg_muts_05/total_egg_strains, 4)\n",
    "    \n",
    "    # condense mutation info by the codon site mutated\n",
    "    all_mutated_sites = [x[:-1] for x in all_muts_gene_flat]\n",
    "    mutated_sites_counts = Counter(all_mutated_sites).most_common()\n",
    "    mutated_sites_freqs = {i:j/total_egg_strains for i,j in mutated_sites_counts}\n",
    "    \n",
    "    # filter to just sites that have mutated in 1% of more of strains \n",
    "    sites_mutated_above_1percent = {k:round(v,4) for k,v in mutated_sites_freqs.items() if v>=0.01}\n",
    "    sites_mutated_above_2percent = {k:round(v,4) for k,v in mutated_sites_freqs.items() if v>=0.02}\n",
    "    sites_mutated_above_5percent = {k:round(v,4) for k,v in mutated_sites_freqs.items() if v>=0.05}\n",
    "\n",
    "    \n",
    "    egg_count_info_to_save = {'total_num_egg_strains': total_egg_strains, \n",
    "                              'percent_w_eggmut_in_gene': percent_w_egg_mut, \n",
    "                              'egg_mut_freqs': mut_freqs, \n",
    "                              'egg_muts_above_1percent':egg_muts_above_1percent, \n",
    "                              'egg_muts_above_2percent':egg_muts_above_2percent, \n",
    "                              'egg_muts_above_5percent':egg_muts_above_5percent, \n",
    "                              'percent_w_higherfreq_eggmut_in_gene_01':percent_w_higher_freq_egg_muts_01,\n",
    "                              'percent_w_higherfreq_eggmut_in_gene_02':percent_w_higher_freq_egg_muts_02, \n",
    "                              'percent_w_higherfreq_eggmut_in_gene_05':percent_w_higher_freq_egg_muts_05, \n",
    "                              'mutated_sites_freqs': mutated_sites_freqs, \n",
    "                              'sites_mutated_above_1percent': sites_mutated_above_1percent, \n",
    "                              'sites_mutated_above_2percent': sites_mutated_above_2percent, \n",
    "                              'sites_mutated_above_5percent': sites_mutated_above_5percent}\n",
    "    \n",
    "    # save egg mutation count and freq info to json           \n",
    "    # Serializing json\n",
    "    json_object_to_save = json.dumps(egg_count_info_to_save, indent=2)\n",
    "\n",
    "    # Writing json\n",
    "    with open(f\"egg-mut-counts/{virus}_{segment}_{gene}_egg-mut-counts.json\", \"w\") as outfile:\n",
    "        outfile.write(json_object_to_save)\n"
   ]
  },
  {
   "cell_type": "markdown",
   "id": "4d4f048f",
   "metadata": {},
   "source": [
    "### Get egg-passaged mutation info for each virus/segment/gene combination to be analyzed"
   ]
  },
  {
   "cell_type": "code",
   "execution_count": 24,
   "id": "0d4157c4",
   "metadata": {},
   "outputs": [],
   "source": [
    "viruses = ['h3n2', 'h1n1pdm', 'vic', 'yam']\n",
    "segments = ['HA', 'NA', 'PB1', 'PB2', 'PA', 'NP', 'NS', 'MP']\n",
    "segments_and_genes = {'HA':['SigPep', 'HA1', 'HA2'], 'NA':['NA'], \n",
    "                      'PB1':['PB1'], 'PB2':['PB2'], 'PA':['PA'], \n",
    "                      'NP':['NP'], 'NS':['NS1'], 'MP': ['M1']} "
   ]
  },
  {
   "cell_type": "code",
   "execution_count": 48,
   "id": "8b1c262e",
   "metadata": {},
   "outputs": [],
   "source": [
    "for v in viruses:\n",
    "    for s, gs in segments_and_genes.items():\n",
    "        for g in gs:\n",
    "            get_egg_mut_freqs(v,s,g)"
   ]
  },
  {
   "cell_type": "markdown",
   "id": "c1dac329",
   "metadata": {},
   "source": [
    "### Make summary plot of number of mutations per gene"
   ]
  },
  {
   "cell_type": "code",
   "execution_count": 49,
   "id": "d352741f",
   "metadata": {},
   "outputs": [],
   "source": [
    "def get_counts_for_plot(virus, segment, gene, cutoff):\n",
    "    \"\"\"\n",
    "    Retrieve the mutation counts per gene \n",
    "    \"\"\"\n",
    "    \n",
    "    eggmut_file = f\"egg-mut-counts/{virus}_{segment}_{gene}_egg-mut-counts.json\"\n",
    "    \n",
    "    with open(eggmut_file) as json_handle:\n",
    "        egg_mut_info = json.load(json_handle)\n",
    "    \n",
    "    percent_w_mut = egg_mut_info['percent_w_eggmut_in_gene']\n",
    "    \n",
    "    # get the frequency of strains with only recurrent egg mutations (defined by cutoff)\n",
    "    percent_w_recurrent_muts = egg_mut_info[f'percent_w_higherfreq_eggmut_in_gene_{cutoff}']\n",
    "\n",
    "    \n",
    "    return percent_w_mut, percent_w_recurrent_muts\n",
    "    "
   ]
  },
  {
   "cell_type": "code",
   "execution_count": 50,
   "id": "f4fa0cc9",
   "metadata": {},
   "outputs": [],
   "source": [
    "cmap = {'PB2':\"#9e0342\", 'PB1':\"#d53e4f\", 'PA': \"#f46d43\", \n",
    "        'HA1': \"#66c2a4\", 'HA2':\"#abdda4\", 'NP':\"#3388bd\", 'NA': \"#e6f598\", \n",
    "        'M1': \"#fee08b\", 'NS1':\"#5e4fa2\"}"
   ]
  },
  {
   "cell_type": "code",
   "execution_count": 51,
   "id": "ffc4e604",
   "metadata": {},
   "outputs": [],
   "source": [
    "def plot_eggmut_freq_by_gene(cutoff='01'):\n",
    "    \"\"\"\n",
    "    Plot the percentage of egg-passaged strains that have a mutation in each gene, for each virus\n",
    "    \"\"\"\n",
    "    \n",
    "    data_to_plot = []\n",
    "    \n",
    "    for v in viruses:\n",
    "        for s, gs in segments_and_genes.items():\n",
    "            for g in gs:\n",
    "                # dont plot signal peptide of HA\n",
    "                if g !='SigPep':\n",
    "                    percent_w_mut, percent_w_recurrent_muts = get_counts_for_plot(v,s,g, cutoff)\n",
    "                    data_to_plot.append({'virus': v, 'gene':g, \n",
    "                                         'percent_w_mut':percent_w_mut, \n",
    "                                         'percent_w_recurrent_muts':percent_w_recurrent_muts})\n",
    "\n",
    "    df = pd.DataFrame(data_to_plot)\n",
    "    \n",
    "    \n",
    "    fig, (ax1, ax2) = plt.subplots(2, 1, figsize=(10,10), sharex=True)\n",
    "    ax1 = sns.barplot(data=df, x='virus', y='percent_w_mut', hue = 'gene', \n",
    "                      hue_order = ['PB2', 'PB1', 'PA', 'HA1', 'HA2', 'NP', 'NA', 'M1', 'NS1'],\n",
    "                      palette=cmap, ax=ax1)\n",
    "    ax2 = sns.barplot(data=df, x='virus', y='percent_w_recurrent_muts', hue = 'gene', \n",
    "                      hue_order = ['PB2', 'PB1', 'PA', 'HA1', 'HA2', 'NP', 'NA', 'M1', 'NS1'],\n",
    "                      palette=cmap, ax=ax2)\n",
    "    \n",
    "    ax1.get_legend().remove()\n",
    "    \n",
    "    ax1.set_title('All egg-passaging mutations', fontsize = 20)\n",
    "    ax2.set_title(f'Egg adaptive mutations\\n(Muts occurring in >={cutoff[-1]}% of egg-passaged strains)', fontsize = 20)\n",
    "    \n",
    "    ax1.tick_params(axis='both', labelsize=16)\n",
    "    ax2.tick_params(axis='both', labelsize=16)\n",
    "    \n",
    "    ax1.set_xlabel('')\n",
    "    ax2.set_xlabel('')\n",
    "    ax1.set_ylabel('Percent of strains with\\nat least one\\nmutation during egg-passaging', fontsize=16)\n",
    "    ax2.set_ylabel('Percent of strains with\\nat least one recurrent\\negg-passaging mutation', fontsize=16)\n",
    "    \n",
    "    sns.despine()\n",
    "    \n",
    "    "
   ]
  },
  {
   "cell_type": "code",
   "execution_count": 52,
   "id": "64072e8a",
   "metadata": {},
   "outputs": [
    {
     "data": {
      "image/png": "[encoded data removed]",
      "text/plain": [
       "<Figure size 720x720 with 2 Axes>"
      ]
     },
     "metadata": {
      "needs_background": "light"
     },
     "output_type": "display_data"
    }
   ],
   "source": [
    "plot_eggmut_freq_by_gene()"
   ]
  },
  {
   "cell_type": "code",
   "execution_count": null,
   "id": "6476bb1a",
   "metadata": {},
   "outputs": [],
   "source": []
  }
 ],
 "metadata": {
  "kernelspec": {
   "display_name": "Python 3 (ipykernel)",
   "language": "python",
   "name": "python3"
  },
  "language_info": {
   "codemirror_mode": {
    "name": "ipython",
    "version": 3
   },
   "file_extension": ".py",
   "mimetype": "text/x-python",
   "name": "python",
   "nbconvert_exporter": "python",
   "pygments_lexer": "ipython3",
   "version": "3.9.7"
  }
 },
 "nbformat": 4,
 "nbformat_minor": 5
}
